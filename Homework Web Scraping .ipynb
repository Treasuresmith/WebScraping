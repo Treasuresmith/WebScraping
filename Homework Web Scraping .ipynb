{
 "cells": [
  {
   "cell_type": "code",
   "execution_count": 14,
   "id": "a18b3194",
   "metadata": {},
   "outputs": [],
   "source": [
    "import requests \n",
    "import pandas as pd \n",
    "from bs4 import BeautifulSoup"
   ]
  },
  {
   "cell_type": "code",
   "execution_count": 15,
   "id": "23726716",
   "metadata": {},
   "outputs": [],
   "source": [
    "url= \"https://webpages.charlotte.edu/mscipion/\""
   ]
  },
  {
   "cell_type": "code",
   "execution_count": 16,
   "id": "2e43ed11",
   "metadata": {},
   "outputs": [
    {
     "name": "stdout",
     "output_type": "stream",
     "text": [
      "<Response [200]>\n"
     ]
    }
   ],
   "source": [
    "r = requests.get(url)\n",
    "print(r)"
   ]
  },
  {
   "cell_type": "code",
   "execution_count": 17,
   "id": "73fb8831",
   "metadata": {},
   "outputs": [],
   "source": [
    "soup = BeautifulSoup(r.text,\"lxml\")"
   ]
  },
  {
   "cell_type": "code",
   "execution_count": 19,
   "id": "a3eadbb2",
   "metadata": {},
   "outputs": [],
   "source": [
    "table = soup.find('table')"
   ]
  },
  {
   "cell_type": "code",
   "execution_count": 20,
   "id": "23850d90",
   "metadata": {},
   "outputs": [],
   "source": [
    "rows = table.find_all('tr')"
   ]
  },
  {
   "cell_type": "code",
   "execution_count": 21,
   "id": "b9fc7cb1",
   "metadata": {},
   "outputs": [],
   "source": [
    "data = []\n",
    "for row in rows[1:]:  # Skipping the header row\n",
    "    cols = row.find_all('td')\n",
    "    cols = [ele.text.strip() for ele in cols]\n",
    "    data.append(cols)  # Get rid of empty values"
   ]
  },
  {
   "cell_type": "code",
   "execution_count": 22,
   "id": "95afe75c",
   "metadata": {},
   "outputs": [],
   "source": [
    "df = pd.DataFrame(data, columns=headers)"
   ]
  },
  {
   "cell_type": "code",
   "execution_count": 23,
   "id": "276abb48",
   "metadata": {},
   "outputs": [
    {
     "name": "stdout",
     "output_type": "stream",
     "text": [
      "<bound method NDFrame.head of   Student Favourite Computer Language Years of Experience\n",
      "0    Fred                      Kotlin                   4\n",
      "1   Paula                      Python                   2\n",
      "2   Ernst                        Java                   7\n",
      "3  Isabel                         C++                   3\n",
      "4    Tony                       Pearl                   7\n",
      "5   Maria                       Cobol                  15>\n"
     ]
    }
   ],
   "source": [
    "print(df.head)"
   ]
  },
  {
   "cell_type": "code",
   "execution_count": 26,
   "id": "2c7aa856",
   "metadata": {},
   "outputs": [
    {
     "name": "stdout",
     "output_type": "stream",
     "text": [
      "[<tr>\n",
      "<th>Student</th>\n",
      "<th>Favourite Computer Language</th>\n",
      "<th>Years of Experience</th>\n",
      "</tr>, <tr>\n",
      "<td>Fred</td>\n",
      "<td>Kotlin</td>\n",
      "<td>4</td>\n",
      "</tr>, <tr>\n",
      "<td>Paula</td>\n",
      "<td>Python</td>\n",
      "<td>2</td>\n",
      "</tr>, <tr>\n",
      "<td>Ernst</td>\n",
      "<td>Java</td>\n",
      "<td>7</td>\n",
      "</tr>, <tr>\n",
      "<td>Isabel</td>\n",
      "<td>C++</td>\n",
      "<td>3</td>\n",
      "</tr>, <tr>\n",
      "<td>Tony</td>\n",
      "<td>Pearl</td>\n",
      "<td>7</td>\n",
      "</tr>, <tr>\n",
      "<td>Maria</td>\n",
      "<td>Cobol</td>\n",
      "<td>15</td>\n",
      "</tr>]\n"
     ]
    }
   ],
   "source": [
    "rows = table.find_all(\"tr\")\n",
    "print(rows)"
   ]
  },
  {
   "cell_type": "code",
   "execution_count": 27,
   "id": "af8de0b4",
   "metadata": {},
   "outputs": [
    {
     "name": "stdout",
     "output_type": "stream",
     "text": [
      "\n",
      "Fred\n",
      "Kotlin\n",
      "4\n",
      "\n",
      "\n",
      "Paula\n",
      "Python\n",
      "2\n",
      "\n",
      "\n",
      "Ernst\n",
      "Java\n",
      "7\n",
      "\n",
      "\n",
      "Isabel\n",
      "C++\n",
      "3\n",
      "\n",
      "\n",
      "Tony\n",
      "Pearl\n",
      "7\n",
      "\n",
      "\n",
      "Maria\n",
      "Cobol\n",
      "15\n",
      "\n"
     ]
    }
   ],
   "source": [
    "for i in rows [1:]:\n",
    "    print(i.text)"
   ]
  },
  {
   "cell_type": "code",
   "execution_count": 28,
   "id": "9304db4e",
   "metadata": {},
   "outputs": [
    {
     "data": {
      "text/plain": [
       "[<tr>\n",
       " <th>Student</th>\n",
       " <th>Favourite Computer Language</th>\n",
       " <th>Years of Experience</th>\n",
       " </tr>,\n",
       " <tr>\n",
       " <td>Fred</td>\n",
       " <td>Kotlin</td>\n",
       " <td>4</td>\n",
       " </tr>,\n",
       " <tr>\n",
       " <td>Paula</td>\n",
       " <td>Python</td>\n",
       " <td>2</td>\n",
       " </tr>,\n",
       " <tr>\n",
       " <td>Ernst</td>\n",
       " <td>Java</td>\n",
       " <td>7</td>\n",
       " </tr>,\n",
       " <tr>\n",
       " <td>Isabel</td>\n",
       " <td>C++</td>\n",
       " <td>3</td>\n",
       " </tr>,\n",
       " <tr>\n",
       " <td>Tony</td>\n",
       " <td>Pearl</td>\n",
       " <td>7</td>\n",
       " </tr>,\n",
       " <tr>\n",
       " <td>Maria</td>\n",
       " <td>Cobol</td>\n",
       " <td>15</td>\n",
       " </tr>]"
      ]
     },
     "execution_count": 28,
     "metadata": {},
     "output_type": "execute_result"
    }
   ],
   "source": [
    "rows"
   ]
  }
 ],
 "metadata": {
  "kernelspec": {
   "display_name": "Python 3 (ipykernel)",
   "language": "python",
   "name": "python3"
  },
  "language_info": {
   "codemirror_mode": {
    "name": "ipython",
    "version": 3
   },
   "file_extension": ".py",
   "mimetype": "text/x-python",
   "name": "python",
   "nbconvert_exporter": "python",
   "pygments_lexer": "ipython3",
   "version": "3.11.4"
  }
 },
 "nbformat": 4,
 "nbformat_minor": 5
}
